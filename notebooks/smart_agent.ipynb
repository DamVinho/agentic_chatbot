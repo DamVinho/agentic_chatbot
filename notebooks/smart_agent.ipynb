{
 "cells": [
  {
   "cell_type": "markdown",
   "id": "648cf255",
   "metadata": {},
   "source": [
    "## <center>**`Project Details`**</center>\n",
    "\n",
    "#### **Purpose**:\n",
    "\n",
    "Our goal is to build a chatbot from scratch with LangGraph, FastAPI & Streamlit. The conversation flows will be managed with LangGraph and we will use FastAPI to serve the chatbot endpoint. We will finnaly build a Streamlit UI to interact with the backend API.\n",
    "\n",
    "#### **Constraints**:\n",
    "\n",
    " - Use local **ollama**\n",
    "\n",
    "\n",
    "#### **Tools**:\n",
    "\n",
    " - None\n",
    "\n",
    "#### **Requirements**:\n",
    " - Make it work as expected\n"
   ]
  },
  {
   "cell_type": "markdown",
   "id": "628a37d2",
   "metadata": {},
   "source": [
    "***"
   ]
  },
  {
   "cell_type": "markdown",
   "id": "24cfc233",
   "metadata": {},
   "source": [
    "## <center>**`Implementation`**</center>"
   ]
  },
  {
   "cell_type": "markdown",
   "id": "3f3d4471",
   "metadata": {},
   "source": [
    "### **`Backend`**"
   ]
  },
  {
   "cell_type": "markdown",
   "id": "18e5477f",
   "metadata": {},
   "source": [
    "#### Utils functions"
   ]
  },
  {
   "cell_type": "code",
   "execution_count": 3,
   "id": "06ad3fbb",
   "metadata": {},
   "outputs": [],
   "source": [
    "#%%writefile ../backend/utils/model_params.py\n",
    "# model variables\n",
    "MODEL_URL = \"http://ollama:11434\"\n",
    "MODEL_NAME = \"llama3.2\"\n",
    "MODEL_TEMP = 0.0\n",
    "SYSTEM_PROMPT = \"You are a helpful assistant.\""
   ]
  },
  {
   "cell_type": "code",
   "execution_count": 4,
   "id": "9e007cd4",
   "metadata": {},
   "outputs": [],
   "source": [
    "#%%writefile ../backend/utils/model_provider.py\n",
    "\n",
    "from langchain_ollama import ChatOllama\n",
    "#from utils.model_params import MODEL_URL, MODEL_NAME, MODEL_TEMP\n",
    "\n",
    "def load_model(url:str=MODEL_URL, model_name: str=MODEL_NAME, temperature:float=MODEL_TEMP, **kwargs):\n",
    "    \"\"\"Load local ollama model\"\"\"\n",
    "    return ChatOllama(base_url=url, model=model_name, temperature=temperature, **kwargs)"
   ]
  },
  {
   "cell_type": "markdown",
   "id": "f410626c",
   "metadata": {},
   "source": [
    "#### Core"
   ]
  },
  {
   "cell_type": "markdown",
   "id": "910ed14a",
   "metadata": {},
   "source": [
    "##### State variable"
   ]
  },
  {
   "cell_type": "code",
   "execution_count": 5,
   "id": "61203475",
   "metadata": {},
   "outputs": [],
   "source": [
    "#%%writefile ../backend/core/state.py\n",
    "from typing import TypedDict, Dict, Any, Annotated, Sequence, Optional\n",
    "from langchain_core.messages import BaseMessage\n",
    "from langgraph.graph.message import add_messages\n",
    "\n",
    "class ChatState(TypedDict):\n",
    "    messages: Annotated[Sequence[BaseMessage], add_messages]\n",
    "    session_id : Optional[str] = None"
   ]
  },
  {
   "cell_type": "markdown",
   "id": "64949acc",
   "metadata": {},
   "source": [
    "##### Nodes"
   ]
  },
  {
   "cell_type": "code",
   "execution_count": 6,
   "id": "25d172cb",
   "metadata": {},
   "outputs": [],
   "source": [
    "#%%writefile ../backend/core/nodes.py\n",
    "\n",
    "#from core.state import ChatState\n",
    "#from utils.model_provider import load_model\n",
    "#from utils.model_params import MODEL_URL, MODEL_NAME, MODEL_TEMP, SYSTEM_PROMPT\n",
    "from langchain_core.messages import SystemMessage\n",
    "\n",
    "\n",
    "class ChatNode:\n",
    "    def __init__(self, url:str=MODEL_URL,\n",
    "                 model_name:str=MODEL_NAME,\n",
    "                 temperature:float=MODEL_TEMP,\n",
    "                 system_prompt:str=SYSTEM_PROMPT):\n",
    "        self.systeme_message = SystemMessage(content=system_prompt)\n",
    "        self.model = load_model(url, model_name, temperature)\n",
    "\n",
    "    def run(self, state: ChatState) -> ChatState:\n",
    "        messages = state[\"messages\"]\n",
    "\n",
    "        if not messages or type(messages[0]) != SystemMessage:\n",
    "            messages.insert(0, self.systeme_message)\n",
    "\n",
    "        response = self.model.invoke(messages)\n",
    "        state[\"messages\"].append(response)\n",
    "        return state"
   ]
  },
  {
   "cell_type": "markdown",
   "id": "921a56f7",
   "metadata": {},
   "source": [
    "##### The graph"
   ]
  },
  {
   "cell_type": "code",
   "execution_count": 7,
   "id": "5288b606",
   "metadata": {},
   "outputs": [],
   "source": [
    "#%%writefile ../backend/core/graph.py\n",
    "\n",
    "from langgraph.graph import StateGraph, START, END\n",
    "from langgraph.checkpoint.memory import MemorySaver\n",
    "#from core.state import ChatState\n",
    "#from core.nodes import ChatNode\n",
    "from IPython.display import Image, display\n",
    "from typing import Optional\n",
    "from langchain_core.runnables import RunnableConfig\n",
    "\n",
    "class ChatGraph:\n",
    "    def __init__(self):\n",
    "        # nodes\n",
    "        self.chat_node = ChatNode()\n",
    "\n",
    "        # memory saver\n",
    "        self.memory_saver = MemorySaver()\n",
    "\n",
    "    def graph_builder(self):\n",
    "        graph_builder = StateGraph(ChatState)\n",
    "\n",
    "        # Nodes\n",
    "        graph_builder.add_node(\"chat_agent\", self.chat_node.run)\n",
    "\n",
    "        # Edges\n",
    "        graph_builder.add_edge(START, \"chat_agent\")\n",
    "\n",
    "        # return compiled graph\n",
    "        return graph_builder.compile(checkpointer=self.memory_saver)\n",
    "    \n",
    "    @property\n",
    "    def graph(self):\n",
    "        if hasattr(self, \"_graph\"):\n",
    "            return self._graph\n",
    "        self._graph = self.graph_builder()\n",
    "        return self._graph\n",
    "    \n",
    "    def display(self):\n",
    "        display(Image(self.graph.get_graph(xray=True).draw_mermaid_png()))\n",
    "\n",
    "    def invoke(self, input:str, config: Optional[RunnableConfig]=None):\n",
    "        return self.graph.invoke(input, config)"
   ]
  },
  {
   "cell_type": "code",
   "execution_count": 8,
   "id": "f551fb7f",
   "metadata": {},
   "outputs": [
    {
     "data": {
      "image/png": "[encoded data removed]",
      "text/plain": [
       "<IPython.core.display.Image object>"
      ]
     },
     "metadata": {},
     "output_type": "display_data"
    }
   ],
   "source": [
    "graph = ChatGraph()\n",
    "graph.display()"
   ]
  },
  {
   "cell_type": "markdown",
   "id": "b1ab4433",
   "metadata": {},
   "source": [
    "##### Data models for (backend) api"
   ]
  },
  {
   "cell_type": "code",
   "execution_count": 34,
   "id": "ba61b2d6",
   "metadata": {},
   "outputs": [],
   "source": [
    "#%%writefile ../backend/api/models.py\n",
    "from pydantic import BaseModel, Field\n",
    "\n",
    "class ChatRequest(BaseModel):\n",
    "    user_input: str\n",
    "    recursion_limit: int=Field(default=25)\n",
    "\n",
    "class ChatResponse(BaseModel):\n",
    "    response: str\n",
    "    session_id: str"
   ]
  },
  {
   "cell_type": "markdown",
   "id": "ca4c7cb0",
   "metadata": {},
   "source": [
    "##### Backend logic"
   ]
  },
  {
   "cell_type": "code",
   "execution_count": null,
   "id": "d4ce35e7",
   "metadata": {},
   "outputs": [],
   "source": [
    "%%writefile ../backend/api/main.py\n",
    "from fastapi import FastAPI, HTTPException\n",
    "import logging\n",
    "from typing import Dict, Any\n",
    "from api.models import ChatRequest, ChatResponse\n",
    "from core.graph import ChatGraph\n",
    "import uuid\n",
    "import traceback\n",
    "from langchain_core.messages import HumanMessage\n",
    "\n",
    "\n",
    "# configure logging\n",
    "logging.basicConfig(level=logging.INFO)\n",
    "logger = logging.getLogger(__name__)\n",
    "\n",
    "# define the app\n",
    "app = FastAPI(\n",
    "    title=\"Smart AI Chat Agent API\",\n",
    "    description=\"API for interacting with the smart chatbot\",\n",
    "    version=\"1.0.0\"\n",
    ")\n",
    "\n",
    "# store chat sessions\n",
    "chat_sessions : Dict[str, Dict[str, Any]] = {}\n",
    "\n",
    "# end points\n",
    "@app.post(\"/chat/start\", response_model=ChatResponse)\n",
    "async def start_chat(request: ChatRequest):\n",
    "    \"\"\"Start a new chat session with the chatbot\"\"\"\n",
    "    try:\n",
    "        # create a new graph instance\n",
    "        graph = ChatGraph()\n",
    "\n",
    "        # generate a unique session id\n",
    "        session_id = str(uuid.uuid4())\n",
    "\n",
    "        # run a chat by invoking the graph\n",
    "        inputs = {\"messages\":[{\"role\":\"user\",\n",
    "                               \"content\":request.user_input}]}\n",
    "        \n",
    "        config = {\n",
    "            \"recursion_limit\":request.recursion_limit,\n",
    "            \"configurable\":{\"thread_id\":session_id}\n",
    "            }\n",
    "\n",
    "        output = graph.invoke(\n",
    "            input=inputs,\n",
    "            config=config\n",
    "        )\n",
    "\n",
    "        # store the graph instance\n",
    "        chat_sessions[session_id] = {\n",
    "            \"graph\": graph,\n",
    "            \"state\": output,\n",
    "            \"config\": config\n",
    "        }\n",
    "\n",
    "        return ChatResponse(\n",
    "            response=output[\"messages\"][-1].content,\n",
    "            session_id=session_id\n",
    "        )\n",
    "    except Exception as e:\n",
    "        logger.error(f\"Error starting chat: {traceback.format_exc()}\")\n",
    "        raise HTTPException(status_code=500, detail=traceback.format_exc())\n",
    "    \n",
    "# continue chat\n",
    "@app.post(\"/chat/{session_id}/continue\", response_model=ChatResponse)\n",
    "async def continue_chat(session_id:str, request:ChatRequest):\n",
    "    if session_id not in chat_sessions:\n",
    "        raise HTTPException(status_code=404, detail=\"Session not found\")\n",
    "    \n",
    "    # retrieve session and add user input\n",
    "    chat_session = chat_sessions[session_id]\n",
    "    chat_session[\"state\"][\"messages\"].append(HumanMessage(content=request.user_input))\n",
    "\n",
    "    # submit to chat\n",
    "    new_state = chat_session[\"graph\"].invoke(chat_session[\"state\"], chat_session[\"config\"])\n",
    "\n",
    "    # update session\n",
    "    chat_sessions[session_id].update({\"state\": new_state})\n",
    "\n",
    "    return ChatResponse(\n",
    "        response=new_state[\"messages\"][-1].content,\n",
    "        session_id=session_id\n",
    "    )"
   ]
  },
  {
   "cell_type": "markdown",
   "id": "2a646dee",
   "metadata": {},
   "source": []
  },
  {
   "cell_type": "markdown",
   "id": "8b0ed009",
   "metadata": {},
   "source": [
    "#### Frontend"
   ]
  },
  {
   "cell_type": "code",
   "execution_count": 28,
   "id": "57fda8ce",
   "metadata": {},
   "outputs": [
    {
     "name": "stdout",
     "output_type": "stream",
     "text": [
      "Overwriting ../frontend/chatbot_ui.py\n"
     ]
    }
   ],
   "source": [
    "%%writefile ../frontend/chatbot_ui.py\n",
    "import streamlit as st\n",
    "import requests\n",
    "\n",
    "# FastAPI server Url\n",
    "API_URL = \"http://127.0.0.1:8000\" # To change when deployed\n",
    "\n",
    "st.title(\"Smart chatbot\")\n",
    "\n",
    "# Session state for chat history\n",
    "if \"session_id\" not in st.session_state:\n",
    "    st.session_state.session_id = None\n",
    "if \"messages\" not in st.session_state:\n",
    "    st.session_state.messages = []\n",
    "\n",
    "# display chat history\n",
    "for message in st.session_state.messages:\n",
    "    role = \"user\" if message[\"role\"] == \"user\" else \"ai\"\n",
    "    st.chat_message(role).write(message[\"content\"])\n",
    "\n",
    "# user input field\n",
    "user_input = st.chat_input(\"Ask me anything\")\n",
    "\n",
    "if user_input:\n",
    "    # Add user message to chat history and display it directly\n",
    "    st.session_state.messages.append({\"role\": \"user\", \"content\": user_input})\n",
    "    st.chat_message(\"user\").write(user_input)\n",
    "\n",
    "    # Detect if the session is new or not\n",
    "    if st.session_state.session_id is None:\n",
    "        # Start a new chat session\n",
    "        response = requests.post(f\"{API_URL}/chat/start\", json={\"user_input\":user_input})\n",
    "        if response.status_code == 200:\n",
    "            data = response.json()\n",
    "            st.session_state.session_id = data.get(\"session_id\")\n",
    "            ai_response = data.get(\"response\")\n",
    "            st.session_state.messages.append({\"role\":\"ai\", \"content\":ai_response})\n",
    "            st.chat_message(\"ai\").write(ai_response)\n",
    "\n",
    "        else:\n",
    "            st.error(\"Failed to start chat session.\")\n",
    "    else:\n",
    "        # Continue an existing chat\n",
    "        response = requests.post(f\"{API_URL}/chat/{st.session_state.session_id}/continue\",\n",
    "                                 json={\"user_input\":user_input})\n",
    "        \n",
    "        if response.status_code == 200:\n",
    "            data = response.json()\n",
    "            ai_response = data.get(\"response\")\n",
    "            st.session_state.messages.append({\"role\":\"ai\", \"content\":ai_response})\n",
    "            st.chat_message(\"ai\").write(ai_response)\n",
    "        else:\n",
    "            st.error(\"Failed to continue chat.\")"
   ]
  },
  {
   "cell_type": "markdown",
   "id": "1165a511",
   "metadata": {},
   "source": []
  }
 ],
 "metadata": {
  "kernelspec": {
   "display_name": "gpu_ollama_dev",
   "language": "python",
   "name": "python3"
  },
  "language_info": {
   "codemirror_mode": {
    "name": "ipython",
    "version": 3
   },
   "file_extension": ".py",
   "mimetype": "text/x-python",
   "name": "python",
   "nbconvert_exporter": "python",
   "pygments_lexer": "ipython3",
   "version": "3.10.14"
  }
 },
 "nbformat": 4,
 "nbformat_minor": 5
}
